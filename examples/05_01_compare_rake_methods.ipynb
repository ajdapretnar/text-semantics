{
 "cells": [
  {
   "cell_type": "code",
   "execution_count": 1,
   "metadata": {},
   "outputs": [],
   "source": [
    "import rake\n",
    "import rake_nltk\n",
    "from textsemantics.server_api import ServerAPI\n",
    "from lemmagen.lemmatizer import Lemmatizer\n",
    "from lemmagen import DICTIONARY_SLOVENE"
   ]
  },
  {
   "cell_type": "code",
   "execution_count": 2,
   "metadata": {},
   "outputs": [],
   "source": [
    "def rake1(file):\n",
    "    \"\"\"Rake method from nltk_rake library, available at https://github.com/zelandiya/RAKE-tutorial\"\"\"\n",
    "    stoppath = \"utils/slovenian-stopwords.txt\"\n",
    "\n",
    "    rake_object = rake.Rake(stoppath, 5, 3, 4)\n",
    "    keywords = rake_object.run(file)\n",
    "\n",
    "    return keywords"
   ]
  },
  {
   "cell_type": "code",
   "execution_count": 3,
   "metadata": {},
   "outputs": [],
   "source": [
    "def rake2(text, language=\"slovene\", max_n_grams=3, words=20):\n",
    "    \"\"\"Rake method from rake_nltk library, available at https://pypi.org/project/rake-nltk/\"\"\"\n",
    "    with open(\"utils/slovenian-stopwords.txt\") as f:\n",
    "        stopwords = f.read()\n",
    "\n",
    "    r = rake_nltk.Rake(stopwords=stopwords, language=language,\n",
    "                       max_length=max_n_grams)\n",
    "\n",
    "    r.extract_keywords_from_text(text)\n",
    "    res = [(x, y) for y, x in r.get_ranked_phrases_with_scores()]\n",
    "\n",
    "    return res[:words]"
   ]
  },
  {
   "cell_type": "code",
   "execution_count": 4,
   "metadata": {},
   "outputs": [],
   "source": [
    "def evaluate(keywords, proposed_keywords):\n",
    "    correct = len(set(keywords).intersection(set(proposed_keywords)))\n",
    "    return correct / float(len(proposed_keywords)), \\\n",
    "           correct / float(len(keywords))"
   ]
  },
  {
   "cell_type": "code",
   "execution_count": 5,
   "metadata": {},
   "outputs": [],
   "source": [
    "def evaluate_corpus(corpus, method):\n",
    "    total_precision = 0\n",
    "    total_recall = 0\n",
    "\n",
    "    for i, file in corpus.iterrows():\n",
    "        keywords = [i.lower() for i in eval(file[\"Keywords\"])]\n",
    "        proposed_keywords = [i for i, j in method(file[\"Text\"])]\n",
    "        # split keywords into separate words\n",
    "        keywords = [j for i in keywords for j in i.split(' ')]\n",
    "        proposed_keywords = [j for i in proposed_keywords for j in i.split(' ')]\n",
    "        # then lemmatize and lowercase the results\n",
    "        lemmatizer = Lemmatizer(dictionary=DICTIONARY_SLOVENE)\n",
    "        k = [lemmatizer.lemmatize(word.lower()) for word in set(keywords)]\n",
    "        p = [lemmatizer.lemmatize(word.lower()) for word in\n",
    "             set(proposed_keywords)]\n",
    "        prec, rec = evaluate(k, p)\n",
    "        total_precision += prec\n",
    "        total_recall += rec\n",
    "\n",
    "    avg_precision = round(total_precision / float(len(corpus)), 2)\n",
    "    avg_recall = round(total_recall / float(len(corpus)), 2)\n",
    "\n",
    "    avg_fmeasure = round(\n",
    "        2 * avg_precision * avg_recall / (avg_precision + avg_recall), 2)\n",
    "\n",
    "    return avg_precision, avg_recall, avg_fmeasure"
   ]
  },
  {
   "cell_type": "markdown",
   "metadata": {},
   "source": [
    "Naložimo CTCH podatke in preizkusimo obe RAKE knjižnici."
   ]
  },
  {
   "cell_type": "code",
   "execution_count": 6,
   "metadata": {},
   "outputs": [],
   "source": [
    "api = ServerAPI()\n",
    "datasets = api.list_datasets()\n",
    "api.get_dataset_info('CTCH')\n",
    "metadata = api.get_metadata('CTCH')\n",
    "corpus = api.get_texts(metadata[\"File\"])\n",
    "metadata[\"Text\"] = corpus"
   ]
  },
  {
   "cell_type": "code",
   "execution_count": 7,
   "metadata": {},
   "outputs": [],
   "source": [
    "res1 = evaluate_corpus(metadata, rake1)\n",
    "res2 = evaluate_corpus(metadata, rake2)"
   ]
  },
  {
   "cell_type": "code",
   "execution_count": null,
   "metadata": {},
   "outputs": [],
   "source": []
  }
 ],
 "metadata": {
  "kernelspec": {
   "display_name": "Python 3",
   "language": "python",
   "name": "python3"
  },
  "language_info": {
   "codemirror_mode": {
    "name": "ipython",
    "version": 3
   },
   "file_extension": ".py",
   "mimetype": "text/x-python",
   "name": "python",
   "nbconvert_exporter": "python",
   "pygments_lexer": "ipython3",
   "version": "3.8.2"
  }
 },
 "nbformat": 4,
 "nbformat_minor": 4
}
